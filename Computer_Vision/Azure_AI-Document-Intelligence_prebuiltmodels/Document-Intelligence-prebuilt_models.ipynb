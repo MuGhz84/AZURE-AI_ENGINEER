{
 "cells": [
  {
   "cell_type": "markdown",
   "metadata": {},
   "source": [
    "### Azure AI Document Intelligence - Prebuilt Models (Business Card & Invoice Recognizer) - Python SDK Demo"
   ]
  },
  {
   "cell_type": "markdown",
   "metadata": {},
   "source": [
    "#### Importing Azure Form Recognizer python modules"
   ]
  },
  {
   "cell_type": "code",
   "execution_count": 1,
   "metadata": {},
   "outputs": [],
   "source": [
    "from azure.core.credentials import AzureKeyCredential\n",
    "from azure.ai.formrecognizer import FormRecognizerClient"
   ]
  },
  {
   "cell_type": "markdown",
   "metadata": {},
   "source": [
    "#### resource key and end point and instantiate object"
   ]
  },
  {
   "cell_type": "code",
   "execution_count": 2,
   "metadata": {},
   "outputs": [],
   "source": [
    "AZURE_FORM_RECOGNIZER_ENDPOINT = \"https://formrecoprebuiltmodel.cognitiveservices.azure.com/\"\n",
    "AZURE_FORM_RECOGNIZER_KEY = \"21f1b4cfb8d34283af4bae1b1e3d4f37\""
   ]
  },
  {
   "cell_type": "code",
   "execution_count": 3,
   "metadata": {},
   "outputs": [],
   "source": [
    "endpoint = AZURE_FORM_RECOGNIZER_ENDPOINT\n",
    "key = AZURE_FORM_RECOGNIZER_KEY"
   ]
  },
  {
   "cell_type": "code",
   "execution_count": 4,
   "metadata": {},
   "outputs": [],
   "source": [
    "form_recognizer_client = FormRecognizerClient(endpoint=endpoint, credential=AzureKeyCredential(key))"
   ]
  },
  {
   "cell_type": "markdown",
   "metadata": {},
   "source": [
    "### Extract business card info using prebuilt Azure Form Recognizer model"
   ]
  },
  {
   "cell_type": "code",
   "execution_count": 5,
   "metadata": {},
   "outputs": [],
   "source": [
    "content_url = \"https://raw.githubusercontent.com/udacity/cd0461-building-computer-vision-solutions-with-azure-exercises/main/resources/avkash-bizcard.jpg\""
   ]
  },
  {
   "cell_type": "code",
   "execution_count": 6,
   "metadata": {},
   "outputs": [],
   "source": [
    "biz_card_content_from_url = form_recognizer_client.begin_recognize_business_cards_from_url(content_url)"
   ]
  },
  {
   "cell_type": "code",
   "execution_count": 7,
   "metadata": {},
   "outputs": [],
   "source": [
    "collected_biz_cards = biz_card_content_from_url.result()"
   ]
  },
  {
   "cell_type": "code",
   "execution_count": 8,
   "metadata": {},
   "outputs": [
    {
     "data": {
      "text/plain": [
       "[RecognizedForm(form_type=prebuilt:businesscard, fields={'Addresses': FormField(value_type=list, label_data=None, value_data=None, name=Addresses, value=[FormField(value_type=string, label_data=None, value_data=FieldData(page_number=1, text=Big Data Perspective San Francisco, CA, bounding_box=[Point(x=716.0, y=398.0), Point(x=1094.0, y=398.0), Point(x=1094.0, y=478.0), Point(x=716.0, y=478.0)], field_elements=None), name=Addresses, value='Big Data Perspective San Francisco, CA', confidence=0.405)], confidence=1.0), 'CompanyNames': FormField(value_type=list, label_data=None, value_data=None, name=CompanyNames, value=[FormField(value_type=string, label_data=None, value_data=FieldData(page_number=1, text=bigdata, bounding_box=[Point(x=156.0, y=450.0), Point(x=479.0, y=448.0), Point(x=481.0, y=539.0), Point(x=155.0, y=546.0)], field_elements=None), name=CompanyNames, value='bigdata', confidence=0.796)], confidence=1.0), 'ContactNames': FormField(value_type=list, label_data=None, value_data=None, name=ContactNames,]"
      ]
     },
     "execution_count": 8,
     "metadata": {},
     "output_type": "execute_result"
    }
   ],
   "source": [
    "collected_biz_cards"
   ]
  },
  {
   "cell_type": "code",
   "execution_count": 9,
   "metadata": {},
   "outputs": [
    {
     "data": {
      "text/plain": [
       "azure.ai.formrecognizer._models.RecognizedForm"
      ]
     },
     "execution_count": 9,
     "metadata": {},
     "output_type": "execute_result"
    }
   ],
   "source": [
    "type(collected_biz_cards[0])"
   ]
  },
  {
   "cell_type": "code",
   "execution_count": 10,
   "metadata": {},
   "outputs": [],
   "source": [
    "# Enter your own code below to process the fields in your business card\n",
    "\n",
    "def get_biz_card_details(business_card):\n",
    "    contact_names = business_card.fields.get(\"ContactNames\")\n",
    "    if contact_names:\n",
    "        for contact_name in contact_names.value:\n",
    "            print(\"Contact First Name: {} has confidence: {}\".format(\n",
    "                contact_name.value[\"FirstName\"].value, contact_name.value[\"FirstName\"].confidence\n",
    "            ))\n",
    "            print(\"Contact Last Name: {} has confidence: {}\".format(\n",
    "                contact_name.value[\"LastName\"].value, contact_name.value[\"LastName\"].confidence\n",
    "            ))\n",
    "    company_names = business_card.fields.get(\"CompanyNames\")\n",
    "    if company_names:\n",
    "        for company_name in company_names.value:\n",
    "            print(\"Company Name: {} has confidence: {}\".format(company_name.value, company_name.confidence))\n",
    "    departments = business_card.fields.get(\"Departments\")\n",
    "    if departments:\n",
    "        for department in departments.value:\n",
    "            print(\"Department: {} has confidence: {}\".format(department.value, department.confidence))\n",
    "    job_titles = business_card.fields.get(\"JobTitles\")\n",
    "    if job_titles:\n",
    "        for job_title in job_titles.value:\n",
    "            print(\"Job Title: {} has confidence: {}\".format(job_title.value, job_title.confidence))\n",
    "    emails = business_card.fields.get(\"Emails\")\n",
    "    if emails:\n",
    "        for email in emails.value:\n",
    "            print(\"Email: {} has confidence: {}\".format(email.value, email.confidence))\n"
   ]
  },
  {
   "cell_type": "code",
   "execution_count": 11,
   "metadata": {},
   "outputs": [
    {
     "name": "stdout",
     "output_type": "stream",
     "text": [
      "Contact First Name: AVKASH has confidence: 1.0\n",
      "Contact Last Name: CHAUHAN has confidence: 1.0\n",
      "Company Name: bigdata has confidence: 0.796\n",
      "Job Title: Chief Design Officer has confidence: 0.989\n",
      "Email: avkash.chauhan@bdp.com has confidence: 0.99\n"
     ]
    }
   ],
   "source": [
    "get_biz_card_details(collected_biz_cards[0])"
   ]
  },
  {
   "cell_type": "code",
   "execution_count": 12,
   "metadata": {},
   "outputs": [
    {
     "name": "stdout",
     "output_type": "stream",
     "text": [
      "Displaying business card details ....... # 1\n",
      "Contact First Name: AVKASH has confidence: 1.0\n",
      "Contact Last Name: CHAUHAN has confidence: 1.0\n",
      "Company Name: bigdata has confidence: 0.796\n",
      "Job Title: Chief Design Officer has confidence: 0.989\n",
      "Email: avkash.chauhan@bdp.com has confidence: 0.99\n",
      "---------------- EOL -------------------------\n"
     ]
    }
   ],
   "source": [
    "for index_id, business_card in enumerate(collected_biz_cards):\n",
    "    print(\"Displaying business card details ....... # {}\".format(index_id+1))\n",
    "    get_biz_card_details(business_card)\n",
    "    print(\"---------------- EOL -------------------------\")"
   ]
  },
  {
   "cell_type": "markdown",
   "metadata": {},
   "source": [
    "### Extract invoice info using prebuilt Azure Form Recognizer model"
   ]
  },
  {
   "cell_type": "markdown",
   "metadata": {},
   "source": [
    "#### Enter source document URL and extract results"
   ]
  },
  {
   "cell_type": "code",
   "execution_count": 13,
   "metadata": {},
   "outputs": [],
   "source": [
    "content_url = \"https://raw.githubusercontent.com/udacity/cd0461-building-computer-vision-solutions-with-azure-exercises/main/resources/invoice-2.png\""
   ]
  },
  {
   "cell_type": "code",
   "execution_count": 14,
   "metadata": {},
   "outputs": [],
   "source": [
    "invoices_from_url = form_recognizer_client.begin_recognize_invoices_from_url(content_url)"
   ]
  },
  {
   "cell_type": "code",
   "execution_count": 15,
   "metadata": {},
   "outputs": [],
   "source": [
    "collected_invoices = invoices_from_url.result()"
   ]
  },
  {
   "cell_type": "code",
   "execution_count": 16,
   "metadata": {},
   "outputs": [
    {
     "data": {
      "text/plain": [
       "[RecognizedForm(form_type=prebuilt:invoice, fields={'AmountDue': FormField(value_type=float, label_data=None, value_data=FieldData(page_number=1, text=USD $16.32, bounding_box=[Point(x=1279.0, y=359.0), Point(x=1410.0, y=359.0), Point(x=1410.0, y=383.0), Point(x=1279.0, y=383.0)], field_elements=None), name=AmountDue, value=16.32, confidence=0.617), 'BillingAddress': FormField(value_type=string, label_data=None, value_data=FieldData(page_number=1, text=3212 Leghorn Rd Mountain View 94040, bounding_box=[Point(x=70.0, y=597.0), Point(x=260.0, y=597.0), Point(x=260.0, y=702.0), Point(x=70.0, y=702.0)], field_elements=None), name=BillingAddress, value='3212 Leghorn Rd Mountain View 94040', confidence=0.954), 'BillingAddressRecipient': FormField(value_type=string, label_data=None, value_data=FieldData(page_number=1, text=James Starter, bounding_box=[Point(x=70.0, y=542.0), Point(x=276.3, y=544.0), Point(x=276.0, y=573.0), Point(x=69.7, y=571.0)], field_elements=None), name=BillingAddressRecipient, value='James Star]"
      ]
     },
     "execution_count": 16,
     "metadata": {},
     "output_type": "execute_result"
    }
   ],
   "source": [
    "collected_invoices"
   ]
  },
  {
   "cell_type": "code",
   "execution_count": 17,
   "metadata": {},
   "outputs": [
    {
     "data": {
      "text/plain": [
       "1"
      ]
     },
     "execution_count": 17,
     "metadata": {},
     "output_type": "execute_result"
    }
   ],
   "source": [
    "len(collected_invoices)"
   ]
  },
  {
   "cell_type": "code",
   "execution_count": 18,
   "metadata": {},
   "outputs": [
    {
     "data": {
      "text/plain": [
       "azure.ai.formrecognizer._models.RecognizedForm"
      ]
     },
     "execution_count": 18,
     "metadata": {},
     "output_type": "execute_result"
    }
   ],
   "source": [
    "type(collected_invoices[0])"
   ]
  },
  {
   "cell_type": "code",
   "execution_count": 19,
   "metadata": {},
   "outputs": [],
   "source": [
    "# Enter your own code below to process the fields in your invoice\n",
    "\n",
    "def get_invoice_details(invoice):\n",
    "    vendor_name = invoice.fields.get(\"VendorName\")\n",
    "    if vendor_name:\n",
    "        print(\"Vendor Name: {} has confidence: {}\".format(vendor_name.value, vendor_name.confidence))\n",
    "    vendor_address = invoice.fields.get(\"VendorAddress\")\n",
    "    if vendor_address:\n",
    "        print(\"Vendor Address: {} has confidence: {}\".format(vendor_address.value, vendor_address.confidence))\n",
    "    vendor_address_recipient = invoice.fields.get(\"VendorAddressRecipient\")\n",
    "    if vendor_address_recipient:\n",
    "        print(\"Vendor Address Recipient: {} has confidence: {}\".format(vendor_address_recipient.value, vendor_address_recipient.confidence))\n",
    "    customer_name = invoice.fields.get(\"CustomerName\")\n",
    "    if customer_name:\n",
    "        print(\"Customer Name: {} has confidence: {}\".format(customer_name.value, customer_name.confidence))\n",
    "    customer_id = invoice.fields.get(\"CustomerId\")\n",
    "    if customer_id:\n",
    "        print(\"Customer Id: {} has confidence: {}\".format(customer_id.value, customer_id.confidence))\n",
    "    customer_address = invoice.fields.get(\"CustomerAddress\")\n",
    "    if customer_address:\n",
    "        print(\"Customer Address: {} has confidence: {}\".format(customer_address.value, customer_address.confidence))\n",
    "    customer_address_recipient = invoice.fields.get(\"CustomerAddressRecipient\")\n",
    "    if customer_address_recipient:\n",
    "        print(\"Customer Address Recipient: {} has confidence: {}\".format(customer_address_recipient.value, customer_address_recipient.confidence))\n"
   ]
  },
  {
   "cell_type": "code",
   "execution_count": 20,
   "metadata": {},
   "outputs": [
    {
     "name": "stdout",
     "output_type": "stream",
     "text": [
      "Vendor Address: 65 Longhorn Ave San Mateo 94401 has confidence: 0.954\n",
      "Customer Name: James Starter has confidence: 0.618\n"
     ]
    }
   ],
   "source": [
    "get_invoice_details(collected_invoices[0])"
   ]
  },
  {
   "cell_type": "code",
   "execution_count": 21,
   "metadata": {},
   "outputs": [
    {
     "name": "stdout",
     "output_type": "stream",
     "text": [
      "Displaying Invoice details ....... # 1\n",
      "Vendor Address: 65 Longhorn Ave San Mateo 94401 has confidence: 0.954\n",
      "Customer Name: James Starter has confidence: 0.618\n",
      "---------------- EOL -------------------------\n"
     ]
    }
   ],
   "source": [
    "for index_id, invoice in enumerate(collected_invoices):\n",
    "    print(\"Displaying Invoice details ....... # {}\".format(index_id+1))\n",
    "    get_invoice_details(invoice)\n",
    "    print(\"---------------- EOL -------------------------\")"
   ]
  }
 ],
 "metadata": {
  "kernelspec": {
   "display_name": "ai-azure-c1",
   "language": "python",
   "name": "python3"
  },
  "language_info": {
   "codemirror_mode": {
    "name": "ipython",
    "version": 3
   },
   "file_extension": ".py",
   "mimetype": "text/x-python",
   "name": "python",
   "nbconvert_exporter": "python",
   "pygments_lexer": "ipython3",
   "version": "3.8.17"
  },
  "orig_nbformat": 4
 },
 "nbformat": 4,
 "nbformat_minor": 2
}
